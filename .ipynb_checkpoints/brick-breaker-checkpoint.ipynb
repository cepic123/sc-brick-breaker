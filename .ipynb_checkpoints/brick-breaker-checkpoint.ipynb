{
 "cells": [
  {
   "cell_type": "code",
   "execution_count": 1,
   "id": "92c92098",
   "metadata": {},
   "outputs": [],
   "source": [
    "import numpy as np\n",
    "import cv2\n",
    "from sklearn import datasets\n",
    "import matplotlib.pyplot as plt\n",
    "from sklearn.metrics import mean_absolute_error"
   ]
  },
  {
   "cell_type": "code",
   "execution_count": 2,
   "id": "db1315fb",
   "metadata": {},
   "outputs": [],
   "source": [
    "def detect_lines(img):\n",
    "    lines_to_return = []\n",
    "    gray_img = cv2.cvtColor(img, cv2.COLOR_BGR2GRAY)\n",
    "    edges_img = cv2.Canny(gray_img, 50, 150, apertureSize=3)\n",
    "    \n",
    "    min_line_length = 100\n",
    "    \n",
    "    lines = cv2.HoughLinesP(image=edges_img, rho=1, theta=np.pi/180, threshold=10, lines=np.array([]),\n",
    "                            minLineLength=min_line_length, maxLineGap=20)\n",
    "    \n",
    "    for line in lines:\n",
    "        x1 = line[0][0]\n",
    "        y1 = line[0][1]\n",
    "        x2 = line[0][2]\n",
    "        y2 = line[0][3]\n",
    "        lines_to_return.append([x1, y1, x2, y2])\n",
    "        \n",
    "    return lines_to_return"
   ]
  },
  {
   "cell_type": "code",
   "execution_count": 3,
   "id": "a44889d7",
   "metadata": {},
   "outputs": [],
   "source": [
    "def process_video(video_path):\n",
    "    minline = {}\n",
    "    maxline = {}\n",
    "    \n",
    "    number_of_hits = 0\n",
    "    hits_left = 0\n",
    "    hits_rigth = 0\n",
    "    last_hit_left = 0\n",
    "    last_hit_rigth = 0\n",
    "    frame_num = 0\n",
    "    cap = cv2.VideoCapture(video_path)\n",
    "    cap.set(1, frame_num)\n",
    "    \n",
    "    while True:\n",
    "        frame_num += 1\n",
    "        ret_val, frame = cap.read()\n",
    "        if not ret_val:\n",
    "            return hits_left + hits_rigth\n",
    "        \n",
    "        if frame_num == 1: \n",
    "            lines = detect_lines(frame)\n",
    "            minline = [1000,1000,1000,1000]\n",
    "            maxline = [-1, -1, -1, -1]\n",
    "            for line in lines:\n",
    "                if line[2] == line[0]:\n",
    "\n",
    "                    if(line[0] > maxline[0]):\n",
    "                        maxline = line\n",
    "                    if(line[0] < minline[0]):\n",
    "                        minline = line\n",
    "\n",
    "        else:\n",
    "            img = cv2.cvtColor(frame, cv2.COLOR_RGB2GRAY) \n",
    "            \n",
    "            ret, img_bin = cv2.threshold(img, 80, 255, cv2.THRESH_BINARY)\n",
    "            \n",
    "            contours, hierarchy = cv2.findContours(img_bin, cv2.RETR_LIST, cv2.CHAIN_APPROX_SIMPLE)\n",
    "            img = frame.copy()\n",
    "\n",
    "            for contour in contours:\n",
    "                ((x, y), radius) = cv2.minEnclosingCircle(contour)\n",
    "                if radius > 3.6 and radius < 5:\n",
    "                    if abs(minline[0] - x) < 18.5:\n",
    "                        if last_hit_left == frame_num - 1:\n",
    "                            continue\n",
    "                        last_hit_left = frame_num\n",
    "                        hits_left += 1\n",
    "                    if abs(maxline[0] - x) < 18.5:\n",
    "                        if last_hit_rigth == frame_num - 1:\n",
    "                            continue\n",
    "                        last_hit_rigth = frame_num\n",
    "                        hits_rigth += 1"
   ]
  },
  {
   "cell_type": "code",
   "execution_count": 4,
   "id": "a6249ac7",
   "metadata": {
    "scrolled": false
   },
   "outputs": [
    {
     "name": "stdout",
     "output_type": "stream",
     "text": [
      "[7, 18, 21, 18, 10, 31, 13, 15, 14, 24]\n",
      "[7, 18, 21, 18, 10, 32, 13, 15, 14, 24]\n",
      "0.1\n"
     ]
    }
   ],
   "source": [
    "res = []\n",
    "correct_res = [7, 18, 21, 18, 10, 32, 13, 15, 14, 24]\n",
    "res.append(process_video(\"data/video1.mp4\"))\n",
    "res.append(process_video(\"data/video2.mp4\"))\n",
    "res.append(process_video(\"data/video3.mp4\"))\n",
    "res.append(process_video(\"data/video4.mp4\"))\n",
    "res.append(process_video(\"data/video5.mp4\"))\n",
    "res.append(process_video(\"data/video6.mp4\"))\n",
    "res.append(process_video(\"data/video7.mp4\"))\n",
    "res.append(process_video(\"data/video8.mp4\"))\n",
    "res.append(process_video(\"data/video9.mp4\"))\n",
    "res.append(process_video(\"data/video10.mp4\"))\n",
    "\n",
    "print(res)\n",
    "print(correct_res)\n",
    "print(mean_absolute_error(correct_res, res))\n",
    "\n",
    "with open('my-res.txt', 'w') as f:\n",
    "    f.write('file,count')\n",
    "    f.write('\\n')\n",
    "    i = 1\n",
    "    for number in res:\n",
    "        f.write('video' + str(i) + '.mp4,' + str(number))\n",
    "        f.write('\\n')\n",
    "        i += 1"
   ]
  },
  {
   "cell_type": "code",
   "execution_count": null,
   "id": "7c3be2e9",
   "metadata": {},
   "outputs": [],
   "source": []
  }
 ],
 "metadata": {
  "kernelspec": {
   "display_name": "Python 3 (ipykernel)",
   "language": "python",
   "name": "python3"
  },
  "language_info": {
   "codemirror_mode": {
    "name": "ipython",
    "version": 3
   },
   "file_extension": ".py",
   "mimetype": "text/x-python",
   "name": "python",
   "nbconvert_exporter": "python",
   "pygments_lexer": "ipython3",
   "version": "3.7.3"
  }
 },
 "nbformat": 4,
 "nbformat_minor": 5
}
